{
  "nbformat": 4,
  "nbformat_minor": 0,
  "metadata": {
    "colab": {
      "provenance": [],
      "machine_shape": "hm"
    },
    "kernelspec": {
      "name": "python3",
      "display_name": "Python 3"
    },
    "language_info": {
      "name": "python"
    },
    "accelerator": "TPU"
  },
  "cells": [
    {
      "cell_type": "markdown",
      "source": [
        "## Your First Deep Learning Project in Python with Keras Step-by-Step  \n",
        "\n",
        "Source: [Machine Learning Mastery](https://machinelearningmastery.com/tutorial-first-neural-network-python-keras/)\n",
        "\n",
        "+ Author: Jason Brownlee on June 18, 2022 in Deep Learning  \n",
        "+ History: Last Updated on August 16, 2022\n",
        "\n",
        "Keras is a powerful and easy-to-use free open source Python library for developing and evaluating deep learning models.\n",
        "\n",
        "It is part of the TensorFlow library and allows you to define and train neural network models in just a few lines of code.\n",
        "\n",
        "In this tutorial, you will discover how to create your first deep learning neural network model in Python using Keras.\n",
        "\n",
        "Kick-start your project with my new book Deep Learning With Python, including step-by-step tutorials and the Python source code files for all examples.\n",
        "\n",
        "---"
      ],
      "metadata": {
        "id": "upVjdSFo6Vuf"
      }
    },
    {
      "cell_type": "code",
      "execution_count": 3,
      "metadata": {
        "id": "TsSKbtcP1EGr"
      },
      "outputs": [],
      "source": [
        "# first neural network with keras tutorial\n",
        "from numpy import loadtxt\n",
        "\n",
        "from tensorflow.keras.models import Sequential\n",
        "from tensorflow.keras.layers import Dense"
      ]
    },
    {
      "cell_type": "code",
      "source": [
        "%ls\n",
        "%cd sample_data"
      ],
      "metadata": {
        "colab": {
          "base_uri": "https://localhost:8080/"
        },
        "id": "UB_xggdl154y",
        "outputId": "5eb3041d-87ba-44b2-9fea-337fb154e510"
      },
      "execution_count": 4,
      "outputs": [
        {
          "output_type": "stream",
          "name": "stdout",
          "text": [
            "\u001b[0m\u001b[01;32manscombe.json\u001b[0m*                DATA-pima-indians-diabetes.csv  \u001b[01;32mREADME.md\u001b[0m*\n",
            "california_housing_test.csv   mnist_test.csv\n",
            "california_housing_train.csv  mnist_train_small.csv\n",
            "[Errno 2] No such file or directory: 'sample_data'\n",
            "/content/sample_data\n"
          ]
        }
      ]
    },
    {
      "cell_type": "code",
      "source": [
        "# load the dataset\n",
        "# dataset = loadtxt('DATA-pima-indians-diabetes.csv', delimiter=',')\n",
        "dataset = loadtxt(\"https://raw.githubusercontent.com/jbrownlee/Datasets/master/pima-indians-diabetes.data.csv\", delimiter=',')\n",
        "# split into input (X) and output (y) variables\n",
        "X = dataset[:,0:8]\n",
        "y = dataset[:,8]"
      ],
      "metadata": {
        "id": "G3X6Z91U1wyY"
      },
      "execution_count": 31,
      "outputs": []
    },
    {
      "cell_type": "code",
      "source": [
        "import tensorflow as tf\n",
        "\n",
        "# define the keras model\n",
        "model = tf.keras.models.Sequential([\n",
        "  tf.keras.layers.Dense(12, input_shape=(8,), activation='relu'),\n",
        "  tf.keras.layers.Dense(8, activation='relu'),\n",
        "  tf.keras.layers.Dense(1, activation='sigmoid')\n",
        "])"
      ],
      "metadata": {
        "id": "IFAQtMzx2Qxf"
      },
      "execution_count": 17,
      "outputs": []
    },
    {
      "cell_type": "code",
      "source": [
        "model.summary()"
      ],
      "metadata": {
        "colab": {
          "base_uri": "https://localhost:8080/"
        },
        "id": "n_48YksO2WoH",
        "outputId": "8f1b1326-2e81-4a71-815b-89b7c47892ad"
      },
      "execution_count": 18,
      "outputs": [
        {
          "output_type": "stream",
          "name": "stdout",
          "text": [
            "Model: \"sequential_1\"\n",
            "_________________________________________________________________\n",
            " Layer (type)                Output Shape              Param #   \n",
            "=================================================================\n",
            " dense_3 (Dense)             (None, 12)                108       \n",
            "                                                                 \n",
            " dense_4 (Dense)             (None, 8)                 104       \n",
            "                                                                 \n",
            " dense_5 (Dense)             (None, 1)                 9         \n",
            "                                                                 \n",
            "=================================================================\n",
            "Total params: 221\n",
            "Trainable params: 221\n",
            "Non-trainable params: 0\n",
            "_________________________________________________________________\n"
          ]
        }
      ]
    },
    {
      "cell_type": "code",
      "source": [
        "# compile the keras model\n",
        "model.compile(loss='binary_crossentropy',\n",
        "              optimizer='adam',\n",
        "              metrics=['accuracy'\n",
        "])"
      ],
      "metadata": {
        "id": "YddcEz-j2bkX"
      },
      "execution_count": 19,
      "outputs": []
    },
    {
      "cell_type": "code",
      "source": [
        "# model.fit(X, y, epochs=50, batch_size=10)\n",
        "# Train the model\n",
        "# fit the keras model on the dataset\n",
        "history = model.fit(X, y,\n",
        "                    epochs=50,\n",
        "                    batch_size=10,\n",
        "                    verbose=1)"
      ],
      "metadata": {
        "colab": {
          "base_uri": "https://localhost:8080/"
        },
        "id": "tsSHUzzl2jcW",
        "outputId": "2a19f52b-0551-4669-bf2d-4506f1a52568"
      },
      "execution_count": 27,
      "outputs": [
        {
          "output_type": "stream",
          "name": "stdout",
          "text": [
            "Epoch 1/50\n",
            "77/77 [==============================] - 0s 2ms/step - loss: 0.5165 - accuracy: 0.7487\n",
            "Epoch 2/50\n",
            "77/77 [==============================] - 0s 2ms/step - loss: 0.5181 - accuracy: 0.7422\n",
            "Epoch 3/50\n",
            "77/77 [==============================] - 0s 2ms/step - loss: 0.5123 - accuracy: 0.7461\n",
            "Epoch 4/50\n",
            "77/77 [==============================] - 0s 2ms/step - loss: 0.5154 - accuracy: 0.7370\n",
            "Epoch 5/50\n",
            "77/77 [==============================] - 0s 2ms/step - loss: 0.5102 - accuracy: 0.7461\n",
            "Epoch 6/50\n",
            "77/77 [==============================] - 0s 2ms/step - loss: 0.5082 - accuracy: 0.7422\n",
            "Epoch 7/50\n",
            "77/77 [==============================] - 0s 2ms/step - loss: 0.5515 - accuracy: 0.7357\n",
            "Epoch 8/50\n",
            "77/77 [==============================] - 0s 2ms/step - loss: 0.5224 - accuracy: 0.7344\n",
            "Epoch 9/50\n",
            "77/77 [==============================] - 0s 2ms/step - loss: 0.5489 - accuracy: 0.7357\n",
            "Epoch 10/50\n",
            "77/77 [==============================] - 0s 2ms/step - loss: 0.5426 - accuracy: 0.7448\n",
            "Epoch 11/50\n",
            "77/77 [==============================] - 0s 2ms/step - loss: 0.5427 - accuracy: 0.7383\n",
            "Epoch 12/50\n",
            "77/77 [==============================] - 0s 2ms/step - loss: 0.4999 - accuracy: 0.7630\n",
            "Epoch 13/50\n",
            "77/77 [==============================] - 0s 2ms/step - loss: 0.5175 - accuracy: 0.7552\n",
            "Epoch 14/50\n",
            "77/77 [==============================] - 0s 2ms/step - loss: 0.5179 - accuracy: 0.7578\n",
            "Epoch 15/50\n",
            "77/77 [==============================] - 0s 2ms/step - loss: 0.5143 - accuracy: 0.7552\n",
            "Epoch 16/50\n",
            "77/77 [==============================] - 0s 2ms/step - loss: 0.5353 - accuracy: 0.7448\n",
            "Epoch 17/50\n",
            "77/77 [==============================] - 0s 2ms/step - loss: 0.5017 - accuracy: 0.7487\n",
            "Epoch 18/50\n",
            "77/77 [==============================] - 0s 2ms/step - loss: 0.5123 - accuracy: 0.7565\n",
            "Epoch 19/50\n",
            "77/77 [==============================] - 0s 2ms/step - loss: 0.5152 - accuracy: 0.7500\n",
            "Epoch 20/50\n",
            "77/77 [==============================] - 0s 2ms/step - loss: 0.5448 - accuracy: 0.7357\n",
            "Epoch 21/50\n",
            "77/77 [==============================] - 0s 2ms/step - loss: 0.5019 - accuracy: 0.7630\n",
            "Epoch 22/50\n",
            "77/77 [==============================] - 0s 2ms/step - loss: 0.5063 - accuracy: 0.7552\n",
            "Epoch 23/50\n",
            "77/77 [==============================] - 0s 2ms/step - loss: 0.4980 - accuracy: 0.7474\n",
            "Epoch 24/50\n",
            "77/77 [==============================] - 0s 2ms/step - loss: 0.5217 - accuracy: 0.7526\n",
            "Epoch 25/50\n",
            "77/77 [==============================] - 0s 2ms/step - loss: 0.5021 - accuracy: 0.7370\n",
            "Epoch 26/50\n",
            "77/77 [==============================] - 0s 3ms/step - loss: 0.5126 - accuracy: 0.7552\n",
            "Epoch 27/50\n",
            "77/77 [==============================] - 0s 2ms/step - loss: 0.5018 - accuracy: 0.7526\n",
            "Epoch 28/50\n",
            "77/77 [==============================] - 0s 2ms/step - loss: 0.4979 - accuracy: 0.7552\n",
            "Epoch 29/50\n",
            "77/77 [==============================] - 0s 4ms/step - loss: 0.4983 - accuracy: 0.7630\n",
            "Epoch 30/50\n",
            "77/77 [==============================] - 1s 7ms/step - loss: 0.4892 - accuracy: 0.7630\n",
            "Epoch 31/50\n",
            "77/77 [==============================] - 0s 5ms/step - loss: 0.5052 - accuracy: 0.7591\n",
            "Epoch 32/50\n",
            "77/77 [==============================] - 0s 2ms/step - loss: 0.4934 - accuracy: 0.7513\n",
            "Epoch 33/50\n",
            "77/77 [==============================] - 0s 2ms/step - loss: 0.4884 - accuracy: 0.7539\n",
            "Epoch 34/50\n",
            "77/77 [==============================] - 0s 2ms/step - loss: 0.5127 - accuracy: 0.7461\n",
            "Epoch 35/50\n",
            "77/77 [==============================] - 0s 2ms/step - loss: 0.5012 - accuracy: 0.7591\n",
            "Epoch 36/50\n",
            "77/77 [==============================] - 0s 2ms/step - loss: 0.5123 - accuracy: 0.7526\n",
            "Epoch 37/50\n",
            "77/77 [==============================] - 0s 2ms/step - loss: 0.5021 - accuracy: 0.7591\n",
            "Epoch 38/50\n",
            "77/77 [==============================] - 0s 2ms/step - loss: 0.5008 - accuracy: 0.7474\n",
            "Epoch 39/50\n",
            "77/77 [==============================] - 0s 2ms/step - loss: 0.5055 - accuracy: 0.7604\n",
            "Epoch 40/50\n",
            "77/77 [==============================] - 0s 2ms/step - loss: 0.5039 - accuracy: 0.7591\n",
            "Epoch 41/50\n",
            "77/77 [==============================] - 0s 2ms/step - loss: 0.4858 - accuracy: 0.7591\n",
            "Epoch 42/50\n",
            "77/77 [==============================] - 0s 2ms/step - loss: 0.4882 - accuracy: 0.7552\n",
            "Epoch 43/50\n",
            "77/77 [==============================] - 0s 2ms/step - loss: 0.4912 - accuracy: 0.7552\n",
            "Epoch 44/50\n",
            "77/77 [==============================] - 0s 2ms/step - loss: 0.5260 - accuracy: 0.7357\n",
            "Epoch 45/50\n",
            "77/77 [==============================] - 0s 2ms/step - loss: 0.4878 - accuracy: 0.7669\n",
            "Epoch 46/50\n",
            "77/77 [==============================] - 0s 2ms/step - loss: 0.4933 - accuracy: 0.7682\n",
            "Epoch 47/50\n",
            "77/77 [==============================] - 0s 2ms/step - loss: 0.5080 - accuracy: 0.7422\n",
            "Epoch 48/50\n",
            "77/77 [==============================] - 0s 2ms/step - loss: 0.4832 - accuracy: 0.7552\n",
            "Epoch 49/50\n",
            "77/77 [==============================] - 0s 2ms/step - loss: 0.4979 - accuracy: 0.7708\n",
            "Epoch 50/50\n",
            "77/77 [==============================] - 0s 2ms/step - loss: 0.4936 - accuracy: 0.7578\n"
          ]
        }
      ]
    },
    {
      "cell_type": "code",
      "source": [
        "# evaluate the keras model\n",
        "_, accuracy = model.evaluate(X, y)\n",
        "print('Accuracy: %.2f' % (accuracy*100))"
      ],
      "metadata": {
        "colab": {
          "base_uri": "https://localhost:8080/"
        },
        "id": "Cz1lNBgS2vHp",
        "outputId": "b8800bfc-080d-4e12-8b8e-01554b2409bd"
      },
      "execution_count": 28,
      "outputs": [
        {
          "output_type": "stream",
          "name": "stdout",
          "text": [
            "24/24 [==============================] - 0s 1ms/step - loss: 0.4682 - accuracy: 0.7747\n",
            "Accuracy: 77.47\n"
          ]
        }
      ]
    },
    {
      "cell_type": "code",
      "source": [
        "import matplotlib.pyplot as plt"
      ],
      "metadata": {
        "id": "kmovY9FA4wdF"
      },
      "execution_count": 25,
      "outputs": []
    },
    {
      "cell_type": "code",
      "source": [
        "#-----------------------------------------------------------\n",
        "# Retrieve a list of list results on training and test data\n",
        "# sets for each training epoch\n",
        "#-----------------------------------------------------------\n",
        "acc=history.history['accuracy']\n",
        "loss=history.history['loss']\n",
        "\n",
        "epochs=range(len(acc)) # Get number of epochs\n",
        "\n",
        "#------------------------------------------------\n",
        "# Plot training accuracy per epoch\n",
        "#------------------------------------------------\n",
        "plt.plot(epochs, acc, 'r', \"Training Accuracy\")\n",
        "plt.title('Training accuracy')\n",
        "plt.show()\n",
        "print(\"\")\n",
        "\n",
        "#------------------------------------------------\n",
        "# Plot training loss per epoch\n",
        "#------------------------------------------------\n",
        "plt.plot(epochs, loss, 'b', \"Training Loss\")\n",
        "plt.show()"
      ],
      "metadata": {
        "colab": {
          "base_uri": "https://localhost:8080/",
          "height": 883
        },
        "id": "FCvcCjN74xGx",
        "outputId": "86b7546c-3c9e-4db5-c1b9-4bc0ef6efb2e"
      },
      "execution_count": 30,
      "outputs": [
        {
          "output_type": "display_data",
          "data": {
            "text/plain": [
              "<Figure size 640x480 with 1 Axes>"
            ],
            "image/png": "[encoded data removed]"
          },
          "metadata": {}
        },
        {
          "output_type": "stream",
          "name": "stdout",
          "text": [
            "\n"
          ]
        },
        {
          "output_type": "display_data",
          "data": {
            "text/plain": [
              "<Figure size 640x480 with 1 Axes>"
            ],
            "image/png": "[encoded data removed]"
          },
          "metadata": {}
        }
      ]
    }
  ]
}